{
 "cells": [
  {
   "cell_type": "code",
   "execution_count": 1,
   "metadata": {},
   "outputs": [],
   "source": [
    "import pandas as pd\n",
    "import glob\n",
    "import zipfile\n",
    "import os\n",
    "import sys"
   ]
  },
  {
   "cell_type": "code",
   "execution_count": 2,
   "metadata": {},
   "outputs": [],
   "source": [
    "sys.path.insert(0, '../src')"
   ]
  },
  {
   "cell_type": "code",
   "execution_count": 3,
   "metadata": {},
   "outputs": [],
   "source": [
    "def merge_zip_file(folder_name):\n",
    "    zip_files_name = os.path.join('../data/raw/itineraries_csv/', folder_name, f\"{folder_name}_itineraries_*.zip\")\n",
    "    \n",
    "    zip_files = glob.glob(zip_files_name)\n",
    "    df_list = []\n",
    "    \n",
    "    for zip_file in zip_files:\n",
    "        with zipfile.ZipFile(zip_file, 'r') as z:\n",
    "            with z.open(z.namelist()[0]) as f:\n",
    "                df = pd.read_csv(f)\n",
    "                df_list.append(df)\n",
    "    merge_df = pd.concat(df_list, ignore_index=True)\n",
    "    return merge_df"
   ]
  },
  {
   "cell_type": "code",
   "execution_count": 5,
   "metadata": {},
   "outputs": [],
   "source": [
    "itineraries = ['ATL', 'BOS', 'CLT', 'DEN', 'DFW', 'DTW', 'EWR', 'IAD', 'JFK', 'LAX', 'LGA', 'MIA', 'OAK', 'ORD', 'PHL', 'SFO']"
   ]
  },
  {
   "cell_type": "code",
   "execution_count": 22,
   "metadata": {},
   "outputs": [
    {
     "name": "stdout",
     "output_type": "stream",
     "text": [
      "Saved ATL to ../data/interim/atl.csv\n",
      "Saved BOS to ../data/interim/bos.csv\n",
      "Saved CLT to ../data/interim/clt.csv\n",
      "Saved DEN to ../data/interim/den.csv\n",
      "Saved DFW to ../data/interim/dfw.csv\n",
      "Saved DTW to ../data/interim/dtw.csv\n",
      "Saved EWR to ../data/interim/ewr.csv\n",
      "Saved IAD to ../data/interim/iad.csv\n",
      "Saved JFK to ../data/interim/jfk.csv\n",
      "Saved LAX to ../data/interim/lax.csv\n",
      "Saved LGA to ../data/interim/lga.csv\n",
      "Saved MIA to ../data/interim/mia.csv\n",
      "Saved OAK to ../data/interim/oak.csv\n",
      "Saved ORD to ../data/interim/ord.csv\n",
      "Saved PHL to ../data/interim/phl.csv\n",
      "Saved SFO to ../data/interim/sfo.csv\n"
     ]
    }
   ],
   "source": [
    "for i in itineraries:\n",
    "    df_name = i.lower()\n",
    "    df = merge_zip_file(i)\n",
    "    globals()[df_name] = df\n",
    "    \n",
    "    output_path = os.path.join('../data/interim/', f\"{df_name}.csv\")\n",
    "    df.to_csv(output_path, index=False)\n",
    "    print(f\"Saved {i} to {output_path}\")   "
   ]
  }
 ],
 "metadata": {
  "kernelspec": {
   "display_name": ".venv",
   "language": "python",
   "name": "python3"
  },
  "language_info": {
   "codemirror_mode": {
    "name": "ipython",
    "version": 3
   },
   "file_extension": ".py",
   "mimetype": "text/x-python",
   "name": "python",
   "nbconvert_exporter": "python",
   "pygments_lexer": "ipython3",
   "version": "3.9.13"
  }
 },
 "nbformat": 4,
 "nbformat_minor": 2
}
