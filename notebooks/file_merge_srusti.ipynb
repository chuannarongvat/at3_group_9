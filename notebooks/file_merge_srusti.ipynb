{
 "cells": [
  {
   "cell_type": "code",
   "execution_count": 1,
   "id": "10428dbf-0e8d-4ddd-9b6c-9c30fa819109",
   "metadata": {
    "tags": []
   },
   "outputs": [],
   "source": [
    "# Importing the packages\n",
    "import pandas as pd\n",
    "import numpy as np\n",
    "#import matplotlib.pyplot as plt\n",
    "#import seaborn as sns\n",
    "import datetime\n",
    "import sys\n",
    "import traceback\n",
    "pd.set_option('display.max_column', 100)\n",
    "import time\n",
    "import re\n",
    "import os\n",
    "import glob"
   ]
  },
  {
   "cell_type": "code",
   "execution_count": 3,
   "id": "ccb30525-e908-4071-9937-37de61caa643",
   "metadata": {
    "tags": []
   },
   "outputs": [],
   "source": [
    "# Function for data cleaning\n",
    "\n",
    "def convert_to_epoch(df):\n",
    "    depart_time = []  # Initialize the list to store departure times\n",
    "    depttime=df['segmentsDepartureTimeRaw']\n",
    "    for depttime in depttime :\n",
    "        ts = pd.Timestamp(depttime)\n",
    "        Hour = int(ts.hour)\n",
    "        Minute = int(ts.minute)\n",
    "        depart_time.append(f\"{Hour:02d}:{Minute:02d}\")  # Format the time as HH:MM\n",
    "    df['depart_time'] = depart_time # Create a DataFrame from the list\n",
    "        \n",
    "    return df\n",
    "\n",
    "\n",
    "\n",
    "def convert_travel_time(df):\n",
    "    # Define the duration string\n",
    "    duration_str = df['travelDuration']\n",
    "    total_minutes=[]\n",
    "    for duration in duration_str:\n",
    "        # Use regular expressions to extract hours and minutes\n",
    "        hours_match = re.search(r'(\\d+)H', duration)\n",
    "        minutes_match = re.search(r'(\\d+)M', duration)\n",
    "        # Initialize variables for hours and minutes\n",
    "        hours = 0\n",
    "        minutes = 0\n",
    "        # If the matches are found, convert them to integers\n",
    "        if hours_match:\n",
    "            hours = int(hours_match.group(1))\n",
    "            if minutes_match:\n",
    "                minutes = int(minutes_match.group(1))\n",
    "        # Calculate the total duration in minutes\n",
    "        total_minutes.append(hours * 60 + minutes)\n",
    "    \n",
    "    df['travelDuration_minutes']=total_minutes\n",
    "    return df\n"
   ]
  },
  {
   "cell_type": "code",
   "execution_count": 3,
   "id": "f26c319f-f9f5-498b-b76b-807fa043a713",
   "metadata": {
    "tags": []
   },
   "outputs": [],
   "source": [
    "def process_and_save_csv(input_csv, output_parquet):\n",
    "    output_path= \"../data/processed/\"\n",
    "    df = pd.read_csv(input_csv, low_memory=False)\n",
    "        \n",
    "    df_itenary_cp = df[['searchDate', 'flightDate', 'startingAirport',\n",
    "                     'destinationAirport', 'travelDuration', 'isBasicEconomy',\n",
    "                      'isRefundable', 'isNonStop', 'totalFare', 'totalTravelDistance',\n",
    "                      'segmentsDepartureTimeRaw', 'segmentsAirlineCode', 'segmentsCabinCode']].copy()\n",
    "\n",
    "    df_itenary_cp['totalTravelDistance'] = df_itenary_cp['totalTravelDistance'].fillna('PT0H0M')\n",
    "    df_itenary_cp['searchDate'] = pd.to_datetime(df_itenary_cp['searchDate'].str.replace('-', ''),\n",
    "                                                 format='%Y%m%d', errors='coerce')\n",
    "    df_itenary_cp['flightDate'] = pd.to_datetime(df_itenary_cp['flightDate'].str.replace('-', ''),\n",
    "                                                 format='%Y%m%d', errors='coerce')\n",
    "    df_itenary_cp['segmentsCabinCode'] = df_itenary_cp['segmentsCabinCode'].str.replace('|', ',').str.split(',').str[0]\n",
    "    df_itenary_cp['segmentsDepartureTimeRaw'] = pd.to_datetime(\n",
    "        df_itenary_cp['segmentsDepartureTimeRaw'].str.replace('|', ',').str.split(',').str[0],\n",
    "        format='%Y-%m-%dT%H:%M:%S.%f%z', errors='coerce')\n",
    "\n",
    "    df_itenary_cp['segmentsAirlineCode'] = df_itenary_cp['segmentsAirlineCode'].str.replace('|', ',').str.split(',').str[0]\n",
    "\n",
    "    df_itenary_cp = df_itenary_cp.dropna()\n",
    "    df_itenary_cp = convert_to_epoch(df_itenary_cp)\n",
    "    df_itenary_cp = convert_travel_time(df_itenary_cp)\n",
    "\n",
    "    df_itenary_cp = df_itenary_cp[['searchDate', 'flightDate', 'startingAirport', 'destinationAirport',\n",
    "                                   'travelDuration_minutes', 'isBasicEconomy', 'isRefundable', 'isNonStop',\n",
    "                                  'totalFare', 'totalTravelDistance', 'depart_time',\n",
    "                                   'segmentsAirlineCode', 'segmentsCabinCode']]\n",
    "    \n",
    "\n",
    "    df_itenary_cp.to_parquet(output_path+output_parquet, index=False)\n"
   ]
  },
  {
   "cell_type": "code",
   "execution_count": 4,
   "id": "9330e829-37c2-4f15-8c98-5800e9e8aa4c",
   "metadata": {
    "tags": []
   },
   "outputs": [],
   "source": [
    "#Converting csv to parquet file\n",
    "process_and_save_csv('../data/raw/DEN_full.csv','DEN_full.parquet')\n",
    "process_and_save_csv('../data/raw/MIA_full.csv','MIA_full.parquet')\n",
    "process_and_save_csv('../data/raw/LAX_full.csv','LAX_full.parquet')\n",
    "process_and_save_csv('../data/raw/CLT_full.csv','CLT_full.parquet')\n",
    "process_and_save_csv('../data/raw/BOS_full.csv','BOS_full.parquet')\n",
    "process_and_save_csv('../data/raw/ATL_full.csv','ATL_full.parquet')\n",
    "process_and_save_csv('../data/raw/SFO_full.csv','SFO_full.parquet')\n",
    "process_and_save_csv('../data/raw/EWR_full.csv','EWR_full.parquet')\n",
    "process_and_save_csv('../data/raw/ORD_full.csv','ORD_full.parquet')\n",
    "process_and_save_csv('../data/raw/LGA_full.csv','LGA_full.parquet')\n",
    "process_and_save_csv('../data/raw/DFW_full.csv','DFW_full.parquet')\n",
    "process_and_save_csv('../data/raw/IAD_full.csv','IAD_full.parquet')\n",
    "process_and_save_csv('../data/raw/OAK_full.csv','OAK_full.parquet')\n",
    "process_and_save_csv('../data/raw/PHL_full.csv','PHL_full.parquet')\n",
    "process_and_save_csv('../data/raw/JFK_full.csv','JFK_full.parquet')\n",
    "process_and_save_csv('../data/raw/DTW_full.csv','DTW_full.parquet')"
   ]
  },
  {
   "cell_type": "markdown",
   "id": "33072973-73f9-40b3-ac24-2311cc279bc4",
   "metadata": {},
   "source": [
    "Origin airport\n",
    "Destination airport\n",
    "Departure date\n",
    "Departure time\n",
    "Cabin type ('coach', 'first', 'premium coach', 'business')"
   ]
  },
  {
   "cell_type": "code",
   "execution_count": null,
   "id": "ac435911-1295-475a-98d3-5f74e1406745",
   "metadata": {},
   "outputs": [],
   "source": [
    "# Merging all the files to create a single file\n",
    "input_folder = '../data/processed/' \n",
    "output_folder= \"../data/processed/\"\n",
    "\n",
    "# Specify the output file where you want to save the merged data\n",
    "output_file = os.path.join(output_folder, 'full_file.parquet')\n",
    "\n",
    "# Create an empty DataFrame to store the merged data\n",
    "merged_df = pd.DataFrame()\n",
    "\n",
    "# Loop through the .parquet files in the input folder and merge them\n",
    "for file in os.listdir(input_folder):\n",
    "    if file.endswith('.parquet'):\n",
    "        file_path = os.path.join(input_folder, file)\n",
    "        df = pd.read_parquet(file_path)\n",
    "        merged_df = pd.concat([merged_df, df])\n",
    "\n",
    "# Save the merged data to a new .parquet file\n",
    "merged_df.to_parquet(output_file, index=False)"
   ]
  },
  {
   "cell_type": "code",
   "execution_count": null,
   "id": "5aa2ebb9-a5ee-42e3-8b58-7a3f15517c46",
   "metadata": {},
   "outputs": [],
   "source": []
  },
  {
   "cell_type": "code",
   "execution_count": null,
   "id": "47baba21-8443-4545-b88a-1936ccd805d2",
   "metadata": {},
   "outputs": [],
   "source": []
  },
  {
   "cell_type": "code",
   "execution_count": null,
   "id": "58627d39-260a-4421-8ad6-5f27d5a66145",
   "metadata": {},
   "outputs": [],
   "source": []
  },
  {
   "cell_type": "code",
   "execution_count": null,
   "id": "75f8584c-4614-49e5-873f-116ae324d250",
   "metadata": {},
   "outputs": [],
   "source": []
  },
  {
   "cell_type": "code",
   "execution_count": null,
   "id": "a93fafdb-0a32-409a-a599-a25c3fff02fa",
   "metadata": {},
   "outputs": [],
   "source": []
  },
  {
   "cell_type": "code",
   "execution_count": null,
   "id": "29f13cb9-7f4b-4b9b-a139-8642da7e95f0",
   "metadata": {},
   "outputs": [],
   "source": []
  },
  {
   "cell_type": "code",
   "execution_count": null,
   "id": "052bdb92-4e25-46f4-bdcc-c96b88f65198",
   "metadata": {},
   "outputs": [],
   "source": []
  },
  {
   "cell_type": "code",
   "execution_count": null,
   "id": "f318651f-3790-465d-b764-ea90bf2ce6ad",
   "metadata": {},
   "outputs": [],
   "source": []
  },
  {
   "cell_type": "code",
   "execution_count": null,
   "id": "41cd3b6a-fbbb-46d6-8683-c2b23902aa92",
   "metadata": {},
   "outputs": [],
   "source": []
  },
  {
   "cell_type": "code",
   "execution_count": null,
   "id": "13deabf5-270d-4a2f-9ba0-0d69602bfb2c",
   "metadata": {},
   "outputs": [],
   "source": []
  }
 ],
 "metadata": {
  "kernelspec": {
   "display_name": "Python 3",
   "language": "python",
   "name": "python3"
  },
  "language_info": {
   "codemirror_mode": {
    "name": "ipython",
    "version": 3
   },
   "file_extension": ".py",
   "mimetype": "text/x-python",
   "name": "python",
   "nbconvert_exporter": "python",
   "pygments_lexer": "ipython3",
   "version": "3.8.8"
  }
 },
 "nbformat": 4,
 "nbformat_minor": 5
}
