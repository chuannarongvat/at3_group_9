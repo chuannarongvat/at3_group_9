{
 "cells": [
  {
   "cell_type": "markdown",
   "id": "c2d50adc",
   "metadata": {},
   "source": [
    "# AT3 - Data Product with Machine Learning\n",
    "\n",
    "You will have to build a Streamlit app that let users provide the following inputs:\n",
    "\n",
    "- Origin airport\n",
    "- Destination airport\n",
    "- Departure date\n",
    "- Departure time\n",
    "- Cabin type (coach, premium, …)\n",
    "\n",
    "Your group will need to train 4 different models, one per student. Each student will need to submit their best model and make it available in the Streamlit app."
   ]
  },
  {
   "cell_type": "markdown",
   "id": "1bdbdef8",
   "metadata": {},
   "source": [
    "**[1]** Import neccessary packages to list the folders that contains *.zip files"
   ]
  },
  {
   "cell_type": "code",
   "execution_count": 1,
   "id": "561f8c3f",
   "metadata": {},
   "outputs": [],
   "source": [
    "import pandas as pd\n",
    "\n",
    "# timezone for the airport\n",
    "import airportsdata\n",
    "import datetime\n",
    "import pytz\n",
    "\n",
    "import warnings\n",
    "warnings.filterwarnings('ignore')"
   ]
  },
  {
   "cell_type": "code",
   "execution_count": 2,
   "id": "05edeade",
   "metadata": {},
   "outputs": [],
   "source": [
    "df_origin = pd.read_parquet(\"/Users/merrymira/Documents/UTS/36120/at3-streamlit/combined_files.parquet\")"
   ]
  },
  {
   "cell_type": "code",
   "execution_count": 3,
   "id": "0040256f",
   "metadata": {},
   "outputs": [
    {
     "data": {
      "text/html": [
       "<div>\n",
       "<style scoped>\n",
       "    .dataframe tbody tr th:only-of-type {\n",
       "        vertical-align: middle;\n",
       "    }\n",
       "\n",
       "    .dataframe tbody tr th {\n",
       "        vertical-align: top;\n",
       "    }\n",
       "\n",
       "    .dataframe thead th {\n",
       "        text-align: right;\n",
       "    }\n",
       "</style>\n",
       "<table border=\"1\" class=\"dataframe\">\n",
       "  <thead>\n",
       "    <tr style=\"text-align: right;\">\n",
       "      <th></th>\n",
       "      <th>legId</th>\n",
       "      <th>searchDate</th>\n",
       "      <th>flightDate</th>\n",
       "      <th>startingAirport</th>\n",
       "      <th>destinationAirport</th>\n",
       "      <th>travelDuration</th>\n",
       "      <th>isBasicEconomy</th>\n",
       "      <th>isRefundable</th>\n",
       "      <th>isNonStop</th>\n",
       "      <th>totalFare</th>\n",
       "      <th>...</th>\n",
       "      <th>segmentsArrivalTimeEpochSeconds</th>\n",
       "      <th>segmentsArrivalTimeRaw</th>\n",
       "      <th>segmentsArrivalAirportCode</th>\n",
       "      <th>segmentsDepartureAirportCode</th>\n",
       "      <th>segmentsAirlineName</th>\n",
       "      <th>segmentsAirlineCode</th>\n",
       "      <th>segmentsEquipmentDescription</th>\n",
       "      <th>segmentsDurationInSeconds</th>\n",
       "      <th>segmentsDistance</th>\n",
       "      <th>segmentsCabinCode</th>\n",
       "    </tr>\n",
       "  </thead>\n",
       "  <tbody>\n",
       "    <tr>\n",
       "      <th>13184210</th>\n",
       "      <td>8373ee5bc9747f7f2b3cbceb345052da</td>\n",
       "      <td>2022-05-05</td>\n",
       "      <td>2022-07-04</td>\n",
       "      <td>SFO</td>\n",
       "      <td>JFK</td>\n",
       "      <td>PT5H45M</td>\n",
       "      <td>False</td>\n",
       "      <td>False</td>\n",
       "      <td>True</td>\n",
       "      <td>422.60</td>\n",
       "      <td>...</td>\n",
       "      <td>1657018800</td>\n",
       "      <td>2022-07-05T07:00:00.000-04:00</td>\n",
       "      <td>JFK</td>\n",
       "      <td>SFO</td>\n",
       "      <td>American Airlines</td>\n",
       "      <td>AA</td>\n",
       "      <td>AIRBUS INDUSTRIE A321 SHARKLETS</td>\n",
       "      <td>20700</td>\n",
       "      <td>2566</td>\n",
       "      <td>coach</td>\n",
       "    </tr>\n",
       "    <tr>\n",
       "      <th>9358545</th>\n",
       "      <td>09ec6690e4c5931d34cb67998c3b2335</td>\n",
       "      <td>2022-04-28</td>\n",
       "      <td>2022-05-04</td>\n",
       "      <td>LGA</td>\n",
       "      <td>IAD</td>\n",
       "      <td>PT4H9M</td>\n",
       "      <td>False</td>\n",
       "      <td>False</td>\n",
       "      <td>False</td>\n",
       "      <td>501.60</td>\n",
       "      <td>...</td>\n",
       "      <td>1651665060||1651673340</td>\n",
       "      <td>2022-05-04T07:51:00.000-04:00||2022-05-04T10:0...</td>\n",
       "      <td>DTW||IAD</td>\n",
       "      <td>LGA||DTW</td>\n",
       "      <td>Delta||Delta</td>\n",
       "      <td>DL||DL</td>\n",
       "      <td>Airbus A320||Canadair Regional Jet 900</td>\n",
       "      <td>6660||5040</td>\n",
       "      <td>485||391</td>\n",
       "      <td>coach||coach</td>\n",
       "    </tr>\n",
       "    <tr>\n",
       "      <th>13164279</th>\n",
       "      <td>fffdaa66f76d3e64d336a45c7ea08a97</td>\n",
       "      <td>2022-04-28</td>\n",
       "      <td>2022-05-19</td>\n",
       "      <td>SFO</td>\n",
       "      <td>DEN</td>\n",
       "      <td>PT4H26M</td>\n",
       "      <td>False</td>\n",
       "      <td>False</td>\n",
       "      <td>False</td>\n",
       "      <td>369.60</td>\n",
       "      <td>...</td>\n",
       "      <td>1652985060||1652993760</td>\n",
       "      <td>2022-05-19T11:31:00.000-07:00||2022-05-19T14:5...</td>\n",
       "      <td>PHX||DEN</td>\n",
       "      <td>SFO||PHX</td>\n",
       "      <td>American Airlines||American Airlines</td>\n",
       "      <td>AA||AA</td>\n",
       "      <td>Boeing 737-800||Airbus A321</td>\n",
       "      <td>7260||6360</td>\n",
       "      <td>652||590</td>\n",
       "      <td>coach||coach</td>\n",
       "    </tr>\n",
       "    <tr>\n",
       "      <th>6375774</th>\n",
       "      <td>687f41343ae0e2d994fafc649d47f65d</td>\n",
       "      <td>2022-05-18</td>\n",
       "      <td>2022-05-26</td>\n",
       "      <td>IAD</td>\n",
       "      <td>ORD</td>\n",
       "      <td>PT6H22M</td>\n",
       "      <td>False</td>\n",
       "      <td>False</td>\n",
       "      <td>False</td>\n",
       "      <td>346.11</td>\n",
       "      <td>...</td>\n",
       "      <td>1653582300||1653600180</td>\n",
       "      <td>2022-05-26T12:25:00.000-04:00||2022-05-26T16:2...</td>\n",
       "      <td>CLT||ORD</td>\n",
       "      <td>IAD||CLT</td>\n",
       "      <td>American Airlines||American Airlines</td>\n",
       "      <td>AA||AA</td>\n",
       "      <td>Airbus A319||Boeing 737-800</td>\n",
       "      <td>5040||7740</td>\n",
       "      <td>327||592</td>\n",
       "      <td>coach||coach</td>\n",
       "    </tr>\n",
       "    <tr>\n",
       "      <th>10895727</th>\n",
       "      <td>a4a8fdf11a1d86dc94abc019de21629a</td>\n",
       "      <td>2022-04-19</td>\n",
       "      <td>2022-05-15</td>\n",
       "      <td>ORD</td>\n",
       "      <td>MIA</td>\n",
       "      <td>PT3H3M</td>\n",
       "      <td>False</td>\n",
       "      <td>False</td>\n",
       "      <td>True</td>\n",
       "      <td>285.60</td>\n",
       "      <td>...</td>\n",
       "      <td>1652639880</td>\n",
       "      <td>2022-05-15T14:38:00.000-04:00</td>\n",
       "      <td>MIA</td>\n",
       "      <td>ORD</td>\n",
       "      <td>United</td>\n",
       "      <td>UA</td>\n",
       "      <td>Boeing 737-800</td>\n",
       "      <td>10980</td>\n",
       "      <td>1192</td>\n",
       "      <td>coach</td>\n",
       "    </tr>\n",
       "  </tbody>\n",
       "</table>\n",
       "<p>5 rows × 23 columns</p>\n",
       "</div>"
      ],
      "text/plain": [
       "                                     legId  searchDate  flightDate  \\\n",
       "13184210  8373ee5bc9747f7f2b3cbceb345052da  2022-05-05  2022-07-04   \n",
       "9358545   09ec6690e4c5931d34cb67998c3b2335  2022-04-28  2022-05-04   \n",
       "13164279  fffdaa66f76d3e64d336a45c7ea08a97  2022-04-28  2022-05-19   \n",
       "6375774   687f41343ae0e2d994fafc649d47f65d  2022-05-18  2022-05-26   \n",
       "10895727  a4a8fdf11a1d86dc94abc019de21629a  2022-04-19  2022-05-15   \n",
       "\n",
       "         startingAirport destinationAirport travelDuration  isBasicEconomy  \\\n",
       "13184210             SFO                JFK        PT5H45M           False   \n",
       "9358545              LGA                IAD         PT4H9M           False   \n",
       "13164279             SFO                DEN        PT4H26M           False   \n",
       "6375774              IAD                ORD        PT6H22M           False   \n",
       "10895727             ORD                MIA         PT3H3M           False   \n",
       "\n",
       "          isRefundable  isNonStop  totalFare  ...  \\\n",
       "13184210         False       True     422.60  ...   \n",
       "9358545          False      False     501.60  ...   \n",
       "13164279         False      False     369.60  ...   \n",
       "6375774          False      False     346.11  ...   \n",
       "10895727         False       True     285.60  ...   \n",
       "\n",
       "          segmentsArrivalTimeEpochSeconds  \\\n",
       "13184210                       1657018800   \n",
       "9358545            1651665060||1651673340   \n",
       "13164279           1652985060||1652993760   \n",
       "6375774            1653582300||1653600180   \n",
       "10895727                       1652639880   \n",
       "\n",
       "                                     segmentsArrivalTimeRaw  \\\n",
       "13184210                      2022-07-05T07:00:00.000-04:00   \n",
       "9358545   2022-05-04T07:51:00.000-04:00||2022-05-04T10:0...   \n",
       "13164279  2022-05-19T11:31:00.000-07:00||2022-05-19T14:5...   \n",
       "6375774   2022-05-26T12:25:00.000-04:00||2022-05-26T16:2...   \n",
       "10895727                      2022-05-15T14:38:00.000-04:00   \n",
       "\n",
       "         segmentsArrivalAirportCode segmentsDepartureAirportCode  \\\n",
       "13184210                        JFK                          SFO   \n",
       "9358545                    DTW||IAD                     LGA||DTW   \n",
       "13164279                   PHX||DEN                     SFO||PHX   \n",
       "6375774                    CLT||ORD                     IAD||CLT   \n",
       "10895727                        MIA                          ORD   \n",
       "\n",
       "                           segmentsAirlineName segmentsAirlineCode  \\\n",
       "13184210                     American Airlines                  AA   \n",
       "9358545                           Delta||Delta              DL||DL   \n",
       "13164279  American Airlines||American Airlines              AA||AA   \n",
       "6375774   American Airlines||American Airlines              AA||AA   \n",
       "10895727                                United                  UA   \n",
       "\n",
       "                    segmentsEquipmentDescription segmentsDurationInSeconds  \\\n",
       "13184210         AIRBUS INDUSTRIE A321 SHARKLETS                     20700   \n",
       "9358545   Airbus A320||Canadair Regional Jet 900                6660||5040   \n",
       "13164279             Boeing 737-800||Airbus A321                7260||6360   \n",
       "6375774              Airbus A319||Boeing 737-800                5040||7740   \n",
       "10895727                          Boeing 737-800                     10980   \n",
       "\n",
       "         segmentsDistance segmentsCabinCode  \n",
       "13184210             2566             coach  \n",
       "9358545          485||391      coach||coach  \n",
       "13164279         652||590      coach||coach  \n",
       "6375774          327||592      coach||coach  \n",
       "10895727             1192             coach  \n",
       "\n",
       "[5 rows x 23 columns]"
      ]
     },
     "execution_count": 3,
     "metadata": {},
     "output_type": "execute_result"
    }
   ],
   "source": [
    "df = df_origin.sample(frac=0.1, random_state=42)\n",
    "df.head()"
   ]
  },
  {
   "cell_type": "code",
   "execution_count": 4,
   "id": "d39f52a3",
   "metadata": {},
   "outputs": [
    {
     "data": {
      "text/html": [
       "<div>\n",
       "<style scoped>\n",
       "    .dataframe tbody tr th:only-of-type {\n",
       "        vertical-align: middle;\n",
       "    }\n",
       "\n",
       "    .dataframe tbody tr th {\n",
       "        vertical-align: top;\n",
       "    }\n",
       "\n",
       "    .dataframe thead th {\n",
       "        text-align: right;\n",
       "    }\n",
       "</style>\n",
       "<table border=\"1\" class=\"dataframe\">\n",
       "  <thead>\n",
       "    <tr style=\"text-align: right;\">\n",
       "      <th></th>\n",
       "      <th>legId</th>\n",
       "      <th>searchDate</th>\n",
       "      <th>flightDate</th>\n",
       "      <th>startingAirport</th>\n",
       "      <th>destinationAirport</th>\n",
       "      <th>travelDuration</th>\n",
       "      <th>isBasicEconomy</th>\n",
       "      <th>isRefundable</th>\n",
       "      <th>isNonStop</th>\n",
       "      <th>totalFare</th>\n",
       "      <th>...</th>\n",
       "      <th>segmentsArrivalTimeEpochSeconds</th>\n",
       "      <th>segmentsArrivalTimeRaw</th>\n",
       "      <th>segmentsArrivalAirportCode</th>\n",
       "      <th>segmentsDepartureAirportCode</th>\n",
       "      <th>segmentsAirlineName</th>\n",
       "      <th>segmentsAirlineCode</th>\n",
       "      <th>segmentsEquipmentDescription</th>\n",
       "      <th>segmentsDurationInSeconds</th>\n",
       "      <th>segmentsDistance</th>\n",
       "      <th>segmentsCabinCode</th>\n",
       "    </tr>\n",
       "  </thead>\n",
       "  <tbody>\n",
       "    <tr>\n",
       "      <th>count</th>\n",
       "      <td>1352000</td>\n",
       "      <td>1352000</td>\n",
       "      <td>1352000</td>\n",
       "      <td>1352000</td>\n",
       "      <td>1352000</td>\n",
       "      <td>1352000</td>\n",
       "      <td>1352000</td>\n",
       "      <td>1352000</td>\n",
       "      <td>1352000</td>\n",
       "      <td>1.352000e+06</td>\n",
       "      <td>...</td>\n",
       "      <td>1352000</td>\n",
       "      <td>1352000</td>\n",
       "      <td>1352000</td>\n",
       "      <td>1352000</td>\n",
       "      <td>1352000</td>\n",
       "      <td>1352000</td>\n",
       "      <td>1326126</td>\n",
       "      <td>1352000</td>\n",
       "      <td>1352000</td>\n",
       "      <td>1352000</td>\n",
       "    </tr>\n",
       "    <tr>\n",
       "      <th>unique</th>\n",
       "      <td>757823</td>\n",
       "      <td>32</td>\n",
       "      <td>92</td>\n",
       "      <td>16</td>\n",
       "      <td>16</td>\n",
       "      <td>1483</td>\n",
       "      <td>2</td>\n",
       "      <td>2</td>\n",
       "      <td>2</td>\n",
       "      <td>NaN</td>\n",
       "      <td>...</td>\n",
       "      <td>633733</td>\n",
       "      <td>669164</td>\n",
       "      <td>4107</td>\n",
       "      <td>4137</td>\n",
       "      <td>106</td>\n",
       "      <td>106</td>\n",
       "      <td>4685</td>\n",
       "      <td>65030</td>\n",
       "      <td>8462</td>\n",
       "      <td>38</td>\n",
       "    </tr>\n",
       "    <tr>\n",
       "      <th>top</th>\n",
       "      <td>984055a17eb5cfb55e6685f328c53848</td>\n",
       "      <td>2022-04-17</td>\n",
       "      <td>2022-05-24</td>\n",
       "      <td>LAX</td>\n",
       "      <td>LAX</td>\n",
       "      <td>PT1H25M</td>\n",
       "      <td>False</td>\n",
       "      <td>False</td>\n",
       "      <td>False</td>\n",
       "      <td>NaN</td>\n",
       "      <td>...</td>\n",
       "      <td>1653278340</td>\n",
       "      <td>2022-05-12T23:59:00.000-04:00</td>\n",
       "      <td>ORD</td>\n",
       "      <td>ORD</td>\n",
       "      <td>American Airlines||American Airlines</td>\n",
       "      <td>AA||AA</td>\n",
       "      <td>Boeing 737-800</td>\n",
       "      <td>5100</td>\n",
       "      <td>None||None</td>\n",
       "      <td>coach||coach</td>\n",
       "    </tr>\n",
       "    <tr>\n",
       "      <th>freq</th>\n",
       "      <td>11</td>\n",
       "      <td>53729</td>\n",
       "      <td>28550</td>\n",
       "      <td>135305</td>\n",
       "      <td>129341</td>\n",
       "      <td>5295</td>\n",
       "      <td>1276555</td>\n",
       "      <td>1351983</td>\n",
       "      <td>956830</td>\n",
       "      <td>NaN</td>\n",
       "      <td>...</td>\n",
       "      <td>65</td>\n",
       "      <td>51</td>\n",
       "      <td>36525</td>\n",
       "      <td>36759</td>\n",
       "      <td>240501</td>\n",
       "      <td>240501</td>\n",
       "      <td>73392</td>\n",
       "      <td>5295</td>\n",
       "      <td>80565</td>\n",
       "      <td>852967</td>\n",
       "    </tr>\n",
       "    <tr>\n",
       "      <th>mean</th>\n",
       "      <td>NaN</td>\n",
       "      <td>NaN</td>\n",
       "      <td>NaN</td>\n",
       "      <td>NaN</td>\n",
       "      <td>NaN</td>\n",
       "      <td>NaN</td>\n",
       "      <td>NaN</td>\n",
       "      <td>NaN</td>\n",
       "      <td>NaN</td>\n",
       "      <td>3.738684e+02</td>\n",
       "      <td>...</td>\n",
       "      <td>NaN</td>\n",
       "      <td>NaN</td>\n",
       "      <td>NaN</td>\n",
       "      <td>NaN</td>\n",
       "      <td>NaN</td>\n",
       "      <td>NaN</td>\n",
       "      <td>NaN</td>\n",
       "      <td>NaN</td>\n",
       "      <td>NaN</td>\n",
       "      <td>NaN</td>\n",
       "    </tr>\n",
       "    <tr>\n",
       "      <th>std</th>\n",
       "      <td>NaN</td>\n",
       "      <td>NaN</td>\n",
       "      <td>NaN</td>\n",
       "      <td>NaN</td>\n",
       "      <td>NaN</td>\n",
       "      <td>NaN</td>\n",
       "      <td>NaN</td>\n",
       "      <td>NaN</td>\n",
       "      <td>NaN</td>\n",
       "      <td>2.081039e+02</td>\n",
       "      <td>...</td>\n",
       "      <td>NaN</td>\n",
       "      <td>NaN</td>\n",
       "      <td>NaN</td>\n",
       "      <td>NaN</td>\n",
       "      <td>NaN</td>\n",
       "      <td>NaN</td>\n",
       "      <td>NaN</td>\n",
       "      <td>NaN</td>\n",
       "      <td>NaN</td>\n",
       "      <td>NaN</td>\n",
       "    </tr>\n",
       "    <tr>\n",
       "      <th>min</th>\n",
       "      <td>NaN</td>\n",
       "      <td>NaN</td>\n",
       "      <td>NaN</td>\n",
       "      <td>NaN</td>\n",
       "      <td>NaN</td>\n",
       "      <td>NaN</td>\n",
       "      <td>NaN</td>\n",
       "      <td>NaN</td>\n",
       "      <td>NaN</td>\n",
       "      <td>2.397000e+01</td>\n",
       "      <td>...</td>\n",
       "      <td>NaN</td>\n",
       "      <td>NaN</td>\n",
       "      <td>NaN</td>\n",
       "      <td>NaN</td>\n",
       "      <td>NaN</td>\n",
       "      <td>NaN</td>\n",
       "      <td>NaN</td>\n",
       "      <td>NaN</td>\n",
       "      <td>NaN</td>\n",
       "      <td>NaN</td>\n",
       "    </tr>\n",
       "    <tr>\n",
       "      <th>25%</th>\n",
       "      <td>NaN</td>\n",
       "      <td>NaN</td>\n",
       "      <td>NaN</td>\n",
       "      <td>NaN</td>\n",
       "      <td>NaN</td>\n",
       "      <td>NaN</td>\n",
       "      <td>NaN</td>\n",
       "      <td>NaN</td>\n",
       "      <td>NaN</td>\n",
       "      <td>2.235900e+02</td>\n",
       "      <td>...</td>\n",
       "      <td>NaN</td>\n",
       "      <td>NaN</td>\n",
       "      <td>NaN</td>\n",
       "      <td>NaN</td>\n",
       "      <td>NaN</td>\n",
       "      <td>NaN</td>\n",
       "      <td>NaN</td>\n",
       "      <td>NaN</td>\n",
       "      <td>NaN</td>\n",
       "      <td>NaN</td>\n",
       "    </tr>\n",
       "    <tr>\n",
       "      <th>50%</th>\n",
       "      <td>NaN</td>\n",
       "      <td>NaN</td>\n",
       "      <td>NaN</td>\n",
       "      <td>NaN</td>\n",
       "      <td>NaN</td>\n",
       "      <td>NaN</td>\n",
       "      <td>NaN</td>\n",
       "      <td>NaN</td>\n",
       "      <td>NaN</td>\n",
       "      <td>3.446100e+02</td>\n",
       "      <td>...</td>\n",
       "      <td>NaN</td>\n",
       "      <td>NaN</td>\n",
       "      <td>NaN</td>\n",
       "      <td>NaN</td>\n",
       "      <td>NaN</td>\n",
       "      <td>NaN</td>\n",
       "      <td>NaN</td>\n",
       "      <td>NaN</td>\n",
       "      <td>NaN</td>\n",
       "      <td>NaN</td>\n",
       "    </tr>\n",
       "    <tr>\n",
       "      <th>75%</th>\n",
       "      <td>NaN</td>\n",
       "      <td>NaN</td>\n",
       "      <td>NaN</td>\n",
       "      <td>NaN</td>\n",
       "      <td>NaN</td>\n",
       "      <td>NaN</td>\n",
       "      <td>NaN</td>\n",
       "      <td>NaN</td>\n",
       "      <td>NaN</td>\n",
       "      <td>4.876000e+02</td>\n",
       "      <td>...</td>\n",
       "      <td>NaN</td>\n",
       "      <td>NaN</td>\n",
       "      <td>NaN</td>\n",
       "      <td>NaN</td>\n",
       "      <td>NaN</td>\n",
       "      <td>NaN</td>\n",
       "      <td>NaN</td>\n",
       "      <td>NaN</td>\n",
       "      <td>NaN</td>\n",
       "      <td>NaN</td>\n",
       "    </tr>\n",
       "    <tr>\n",
       "      <th>max</th>\n",
       "      <td>NaN</td>\n",
       "      <td>NaN</td>\n",
       "      <td>NaN</td>\n",
       "      <td>NaN</td>\n",
       "      <td>NaN</td>\n",
       "      <td>NaN</td>\n",
       "      <td>NaN</td>\n",
       "      <td>NaN</td>\n",
       "      <td>NaN</td>\n",
       "      <td>8.260610e+03</td>\n",
       "      <td>...</td>\n",
       "      <td>NaN</td>\n",
       "      <td>NaN</td>\n",
       "      <td>NaN</td>\n",
       "      <td>NaN</td>\n",
       "      <td>NaN</td>\n",
       "      <td>NaN</td>\n",
       "      <td>NaN</td>\n",
       "      <td>NaN</td>\n",
       "      <td>NaN</td>\n",
       "      <td>NaN</td>\n",
       "    </tr>\n",
       "  </tbody>\n",
       "</table>\n",
       "<p>11 rows × 23 columns</p>\n",
       "</div>"
      ],
      "text/plain": [
       "                                   legId  searchDate  flightDate  \\\n",
       "count                            1352000     1352000     1352000   \n",
       "unique                            757823          32          92   \n",
       "top     984055a17eb5cfb55e6685f328c53848  2022-04-17  2022-05-24   \n",
       "freq                                  11       53729       28550   \n",
       "mean                                 NaN         NaN         NaN   \n",
       "std                                  NaN         NaN         NaN   \n",
       "min                                  NaN         NaN         NaN   \n",
       "25%                                  NaN         NaN         NaN   \n",
       "50%                                  NaN         NaN         NaN   \n",
       "75%                                  NaN         NaN         NaN   \n",
       "max                                  NaN         NaN         NaN   \n",
       "\n",
       "       startingAirport destinationAirport travelDuration isBasicEconomy  \\\n",
       "count          1352000            1352000        1352000        1352000   \n",
       "unique              16                 16           1483              2   \n",
       "top                LAX                LAX        PT1H25M          False   \n",
       "freq            135305             129341           5295        1276555   \n",
       "mean               NaN                NaN            NaN            NaN   \n",
       "std                NaN                NaN            NaN            NaN   \n",
       "min                NaN                NaN            NaN            NaN   \n",
       "25%                NaN                NaN            NaN            NaN   \n",
       "50%                NaN                NaN            NaN            NaN   \n",
       "75%                NaN                NaN            NaN            NaN   \n",
       "max                NaN                NaN            NaN            NaN   \n",
       "\n",
       "       isRefundable isNonStop     totalFare  ...  \\\n",
       "count       1352000   1352000  1.352000e+06  ...   \n",
       "unique            2         2           NaN  ...   \n",
       "top           False     False           NaN  ...   \n",
       "freq        1351983    956830           NaN  ...   \n",
       "mean            NaN       NaN  3.738684e+02  ...   \n",
       "std             NaN       NaN  2.081039e+02  ...   \n",
       "min             NaN       NaN  2.397000e+01  ...   \n",
       "25%             NaN       NaN  2.235900e+02  ...   \n",
       "50%             NaN       NaN  3.446100e+02  ...   \n",
       "75%             NaN       NaN  4.876000e+02  ...   \n",
       "max             NaN       NaN  8.260610e+03  ...   \n",
       "\n",
       "        segmentsArrivalTimeEpochSeconds         segmentsArrivalTimeRaw  \\\n",
       "count                           1352000                        1352000   \n",
       "unique                           633733                         669164   \n",
       "top                          1653278340  2022-05-12T23:59:00.000-04:00   \n",
       "freq                                 65                             51   \n",
       "mean                                NaN                            NaN   \n",
       "std                                 NaN                            NaN   \n",
       "min                                 NaN                            NaN   \n",
       "25%                                 NaN                            NaN   \n",
       "50%                                 NaN                            NaN   \n",
       "75%                                 NaN                            NaN   \n",
       "max                                 NaN                            NaN   \n",
       "\n",
       "       segmentsArrivalAirportCode segmentsDepartureAirportCode  \\\n",
       "count                     1352000                      1352000   \n",
       "unique                       4107                         4137   \n",
       "top                           ORD                          ORD   \n",
       "freq                        36525                        36759   \n",
       "mean                          NaN                          NaN   \n",
       "std                           NaN                          NaN   \n",
       "min                           NaN                          NaN   \n",
       "25%                           NaN                          NaN   \n",
       "50%                           NaN                          NaN   \n",
       "75%                           NaN                          NaN   \n",
       "max                           NaN                          NaN   \n",
       "\n",
       "                         segmentsAirlineName segmentsAirlineCode  \\\n",
       "count                                1352000             1352000   \n",
       "unique                                   106                 106   \n",
       "top     American Airlines||American Airlines              AA||AA   \n",
       "freq                                  240501              240501   \n",
       "mean                                     NaN                 NaN   \n",
       "std                                      NaN                 NaN   \n",
       "min                                      NaN                 NaN   \n",
       "25%                                      NaN                 NaN   \n",
       "50%                                      NaN                 NaN   \n",
       "75%                                      NaN                 NaN   \n",
       "max                                      NaN                 NaN   \n",
       "\n",
       "       segmentsEquipmentDescription segmentsDurationInSeconds  \\\n",
       "count                       1326126                   1352000   \n",
       "unique                         4685                     65030   \n",
       "top                  Boeing 737-800                      5100   \n",
       "freq                          73392                      5295   \n",
       "mean                            NaN                       NaN   \n",
       "std                             NaN                       NaN   \n",
       "min                             NaN                       NaN   \n",
       "25%                             NaN                       NaN   \n",
       "50%                             NaN                       NaN   \n",
       "75%                             NaN                       NaN   \n",
       "max                             NaN                       NaN   \n",
       "\n",
       "       segmentsDistance segmentsCabinCode  \n",
       "count           1352000           1352000  \n",
       "unique             8462                38  \n",
       "top          None||None      coach||coach  \n",
       "freq              80565            852967  \n",
       "mean                NaN               NaN  \n",
       "std                 NaN               NaN  \n",
       "min                 NaN               NaN  \n",
       "25%                 NaN               NaN  \n",
       "50%                 NaN               NaN  \n",
       "75%                 NaN               NaN  \n",
       "max                 NaN               NaN  \n",
       "\n",
       "[11 rows x 23 columns]"
      ]
     },
     "execution_count": 4,
     "metadata": {},
     "output_type": "execute_result"
    }
   ],
   "source": [
    "df.describe(include='all')"
   ]
  },
  {
   "cell_type": "markdown",
   "id": "101b7649",
   "metadata": {},
   "source": [
    "**[2]** Check for null values"
   ]
  },
  {
   "cell_type": "code",
   "execution_count": 5,
   "id": "730e5a66",
   "metadata": {},
   "outputs": [
    {
     "data": {
      "text/plain": [
       "legId                                    0\n",
       "searchDate                               0\n",
       "flightDate                               0\n",
       "startingAirport                          0\n",
       "destinationAirport                       0\n",
       "travelDuration                           0\n",
       "isBasicEconomy                           0\n",
       "isRefundable                             0\n",
       "isNonStop                                0\n",
       "totalFare                                0\n",
       "totalTravelDistance                  95977\n",
       "segmentsDepartureTimeEpochSeconds        0\n",
       "segmentsDepartureTimeRaw                 0\n",
       "segmentsArrivalTimeEpochSeconds          0\n",
       "segmentsArrivalTimeRaw                   0\n",
       "segmentsArrivalAirportCode               0\n",
       "segmentsDepartureAirportCode             0\n",
       "segmentsAirlineName                      0\n",
       "segmentsAirlineCode                      0\n",
       "segmentsEquipmentDescription         25874\n",
       "segmentsDurationInSeconds                0\n",
       "segmentsDistance                         0\n",
       "segmentsCabinCode                        0\n",
       "dtype: int64"
      ]
     },
     "execution_count": 5,
     "metadata": {},
     "output_type": "execute_result"
    }
   ],
   "source": [
    "df.isna().sum()"
   ]
  },
  {
   "cell_type": "code",
   "execution_count": 6,
   "id": "400cd744",
   "metadata": {},
   "outputs": [
    {
     "name": "stdout",
     "output_type": "stream",
     "text": [
      "                              Percentage Missing\n",
      "totalTravelDistance                     7.098891\n",
      "segmentsEquipmentDescription            1.913757\n"
     ]
    }
   ],
   "source": [
    "missing_columns = df.columns[df.isna().any()]\n",
    "percentage_missing = (df[missing_columns].isna().sum() / len(df) * 100).to_frame(name='Percentage Missing')\n",
    "\n",
    "print(percentage_missing)"
   ]
  },
  {
   "cell_type": "markdown",
   "id": "d852827e",
   "metadata": {},
   "source": [
    "**[3]** Deciding to drop null values because the percentages are less than 10% of the entire dataset"
   ]
  },
  {
   "cell_type": "code",
   "execution_count": 7,
   "id": "309e1379",
   "metadata": {},
   "outputs": [],
   "source": [
    "df.dropna(inplace=True)"
   ]
  },
  {
   "cell_type": "code",
   "execution_count": 8,
   "id": "f14f252d",
   "metadata": {},
   "outputs": [],
   "source": [
    "pd.set_option('display.max_columns', None)  "
   ]
  },
  {
   "cell_type": "markdown",
   "id": "d7c51744",
   "metadata": {},
   "source": [
    "The price of a plane ticket is constantly changing based on \n",
    "- current demand for a flight, \n",
    "- the number of seats available, and \n",
    "- the timing of booking"
   ]
  },
  {
   "cell_type": "markdown",
   "id": "e64feda9",
   "metadata": {},
   "source": [
    "**[4]** Map True to 1 and False to 0"
   ]
  },
  {
   "cell_type": "code",
   "execution_count": 9,
   "id": "4ea564da",
   "metadata": {},
   "outputs": [],
   "source": [
    "df[['isBasicEconomy', 'isRefundable', 'isNonStop']] = df[['isBasicEconomy', 'isRefundable', 'isNonStop']].applymap({True: 1, False: 0}.get)"
   ]
  },
  {
   "cell_type": "markdown",
   "id": "995efbf3",
   "metadata": {},
   "source": [
    "**[5]** Create booking period from calculating days between flight date and booking date"
   ]
  },
  {
   "cell_type": "code",
   "execution_count": 10,
   "id": "663363c4",
   "metadata": {},
   "outputs": [],
   "source": [
    "df[['flightDate', 'searchDate']] = df[['flightDate', 'searchDate']].apply(pd.to_datetime)"
   ]
  },
  {
   "cell_type": "code",
   "execution_count": 11,
   "id": "fa025c47",
   "metadata": {},
   "outputs": [],
   "source": [
    "df['bookingPeriod'] = (df['flightDate'] - df['searchDate']).dt.days"
   ]
  },
  {
   "cell_type": "markdown",
   "id": "877c9e33",
   "metadata": {},
   "source": [
    "**[6]** Convert categorical values to numerical one"
   ]
  },
  {
   "cell_type": "code",
   "execution_count": 12,
   "id": "7b509447",
   "metadata": {},
   "outputs": [],
   "source": [
    "df['flightDateNo'] = df['flightDate'].apply(lambda x: x.day)"
   ]
  },
  {
   "cell_type": "markdown",
   "id": "e7312e2e",
   "metadata": {},
   "source": [
    "**[7]** Convert travel duration to minutes"
   ]
  },
  {
   "cell_type": "code",
   "execution_count": 13,
   "id": "03a00d2e",
   "metadata": {},
   "outputs": [],
   "source": [
    "import re\n",
    "\n",
    "# Your regular expression pattern was missing a closing parenthesis\n",
    "pattern = r'(\\d+)H(\\d+)M'\n",
    "\n",
    "# Assuming df is your DataFrame and 'travelDuration' is a column with strings like '2H30M'"
   ]
  },
  {
   "cell_type": "markdown",
   "id": "5b5d3259",
   "metadata": {},
   "source": [
    "**[8]** Extract day of the week and convert them to integers"
   ]
  },
  {
   "cell_type": "code",
   "execution_count": 14,
   "id": "21af139f",
   "metadata": {},
   "outputs": [],
   "source": [
    "df['day_of_week'] = df['flightDate'].apply(lambda x: x.isoweekday())"
   ]
  },
  {
   "cell_type": "markdown",
   "id": "73b215f9",
   "metadata": {},
   "source": [
    "**[9]** Convert original and destination airports to integers per the following airport dictionary"
   ]
  },
  {
   "cell_type": "code",
   "execution_count": 15,
   "id": "63ddbb31",
   "metadata": {},
   "outputs": [],
   "source": [
    "airport_mapping = {'ATL': 0, 'BOS': 1, 'CLT': 2, 'DEN': 3, 'DFW': 4, 'DTW': 5, 'EWR': 6, 'IAD': 7, 'JFK': 8, 'LAX': 9, 'LGA': 10, 'MIA': 11,  'OAK': 12, 'ORD': 13, 'PHL': 14, 'SFO': 15}"
   ]
  },
  {
   "cell_type": "code",
   "execution_count": 16,
   "id": "a057075c",
   "metadata": {},
   "outputs": [],
   "source": [
    "df[['startingAirport', 'destinationAirport']] = df[['startingAirport', 'destinationAirport']].apply(lambda x: x.map(airport_mapping) if x.name in ['startingAirport', 'destinationAirport'] else x)"
   ]
  },
  {
   "cell_type": "markdown",
   "id": "3f82a9b5",
   "metadata": {},
   "source": [
    "**[10]** Convert cabin code to interger and replace those mix cabin codes such as 'coach||premium' to 'mix'"
   ]
  },
  {
   "cell_type": "code",
   "execution_count": 17,
   "id": "907e7f9b",
   "metadata": {},
   "outputs": [
    {
     "data": {
      "text/plain": [
       "array(['coach', 'coach||coach', 'coach||coach||coach',\n",
       "       'coach||coach||coach||coach', 'first||first',\n",
       "       'premium coach||coach||coach', 'premium coach||coach',\n",
       "       'coach||coach||premium coach', 'coach||premium coach',\n",
       "       'coach||first', 'business||coach', 'first', 'premium coach',\n",
       "       'coach||coach||business', 'premium coach||premium coach',\n",
       "       'first||coach', 'business', 'business||business',\n",
       "       'coach||premium coach||coach',\n",
       "       'coach||premium coach||premium coach', 'first||coach||coach',\n",
       "       'coach||business', 'coach||coach||first',\n",
       "       'premium coach||premium coach||coach', 'first||first||coach',\n",
       "       'business||coach||coach', 'coach||coach||coach||premium coach',\n",
       "       'first||first||first', 'coach||first||first',\n",
       "       'coach||business||business', 'coach||first||coach',\n",
       "       'coach||business||coach', 'first||coach||first', 'business||first',\n",
       "       'coach||coach||coach||first', 'business||business||coach',\n",
       "       'coach||coach||first||coach', 'first||coach||coach||coach'],\n",
       "      dtype=object)"
      ]
     },
     "execution_count": 17,
     "metadata": {},
     "output_type": "execute_result"
    }
   ],
   "source": [
    "df['segmentsCabinCode'].unique()"
   ]
  },
  {
   "cell_type": "code",
   "execution_count": 18,
   "id": "2be2647e",
   "metadata": {},
   "outputs": [],
   "source": [
    "df['segmentsCabinCode'] = df['segmentsCabinCode'].apply(lambda x: 'mix' if all(item != x.split('||')[0] for item in x.split('||')[1:]) else x.split('||')[0])"
   ]
  },
  {
   "cell_type": "code",
   "execution_count": 19,
   "id": "07ed235b",
   "metadata": {},
   "outputs": [],
   "source": [
    "# cabincode_mapping dictionary\n",
    "cabincode_mapping = {'coach': 0, 'premium coach': 1, 'business': 2, 'first': 3, 'mix': 4}"
   ]
  },
  {
   "cell_type": "code",
   "execution_count": 20,
   "id": "1aa5b67c",
   "metadata": {},
   "outputs": [],
   "source": [
    "df['segmentsCabinCode'] = df['segmentsCabinCode'].apply(lambda x: cabincode_mapping[x] if x in cabincode_mapping else x)"
   ]
  },
  {
   "cell_type": "markdown",
   "id": "b388bbe9",
   "metadata": {},
   "source": [
    "**[11]** Convert departure time to 12 bins"
   ]
  },
  {
   "cell_type": "code",
   "execution_count": 21,
   "id": "7fde4371",
   "metadata": {},
   "outputs": [],
   "source": [
    "bin_labels = ['Midnight-2AM', '2AM-4AM', '4AM-6AM', '6AM-8AM', '8AM-10AM', '10AM-12PM', '12PM-2PM', '2PM-4PM', '4PM-6PM', '6PM-8PM', '8PM-10PM', '10PM-Midnight']\n",
    "departuretime_mapping = {'Midnight-2AM': 0, '2AM-4AM': 1, '4AM-6AM': 2, '6AM-8AM': 3, '8AM-10AM': 4, '10AM-12PM': 5, '12PM-2PM': 6, '2PM-4PM': 7, '4PM-6PM': 8, '6PM-8PM': 9, '8PM-10PM': 10, '10PM-Midnight': 11}"
   ]
  },
  {
   "cell_type": "code",
   "execution_count": 22,
   "id": "62e0f1f1",
   "metadata": {},
   "outputs": [],
   "source": [
    "df['segmentsDepartureTimeRaw'] = df['segmentsDepartureTimeRaw'].apply(lambda x: x.split('||')[0])"
   ]
  },
  {
   "cell_type": "code",
   "execution_count": 23,
   "id": "433063af",
   "metadata": {},
   "outputs": [],
   "source": [
    "df['segmentsDepartureTimeRaw'] = pd.to_datetime(df['segmentsDepartureTimeRaw'], utc=True)"
   ]
  },
  {
   "cell_type": "code",
   "execution_count": 24,
   "id": "bd348b0e",
   "metadata": {},
   "outputs": [],
   "source": [
    "# Extract the hour using .dt accessor\n",
    "df['departTime_bin'] = pd.cut(df['segmentsDepartureTimeRaw'].dt.hour, bins=[0, 2, 4, 6, 8, 10, 12, 14, 16, 18, 20, 22, 24], labels=bin_labels, right=False)\n",
    "\n",
    "# Now, map the bin labels to numerical values\n",
    "df['departTime_bin'] = df['departTime_bin'].map(departuretime_mapping)"
   ]
  },
  {
   "cell_type": "markdown",
   "id": "e149c220",
   "metadata": {},
   "source": [
    "**[12]** Convert string distance to numeric kilometres"
   ]
  },
  {
   "cell_type": "code",
   "execution_count": 25,
   "id": "5fe8c629",
   "metadata": {},
   "outputs": [],
   "source": [
    "df['segmentsDistance'] = df['segmentsDistance'].apply(lambda x: sum(int(value) for value in x.split('||')))"
   ]
  },
  {
   "cell_type": "markdown",
   "id": "120e6978",
   "metadata": {},
   "source": [
    "# Modelling\n",
    "## Linear Regression"
   ]
  },
  {
   "cell_type": "code",
   "execution_count": 26,
   "id": "55257444",
   "metadata": {},
   "outputs": [],
   "source": [
    "train_cols = ['startingAirport', 'destinationAirport', 'segmentsDistance', 'segmentsCabinCode', \n",
    "              'bookingPeriod', 'flightDateNo', 'day_of_week', 'departTime_bin']"
   ]
  },
  {
   "cell_type": "code",
   "execution_count": 27,
   "id": "1ff87546",
   "metadata": {},
   "outputs": [],
   "source": [
    "y = df['totalFare']\n",
    "X = df[train_cols]"
   ]
  },
  {
   "cell_type": "code",
   "execution_count": 28,
   "id": "07d52a56",
   "metadata": {},
   "outputs": [],
   "source": [
    "from sklearn.linear_model import LinearRegression\n",
    "from sklearn.model_selection import train_test_split\n",
    "\n",
    "X_train, X_test, y_train, y_test = train_test_split(X, y, test_size=0.2, random_state=42)"
   ]
  },
  {
   "cell_type": "code",
   "execution_count": 29,
   "id": "11322212",
   "metadata": {},
   "outputs": [],
   "source": [
    "reg = LinearRegression().fit(X_train, y_train)"
   ]
  },
  {
   "cell_type": "code",
   "execution_count": 30,
   "id": "89b1ca4f",
   "metadata": {},
   "outputs": [],
   "source": [
    "y_pred = reg.predict(X_test)"
   ]
  },
  {
   "cell_type": "code",
   "execution_count": 35,
   "id": "98febde3",
   "metadata": {},
   "outputs": [
    {
     "name": "stdout",
     "output_type": "stream",
     "text": [
      "Root Mean Squared Error (RMSE): 167.82\n",
      "R-squared (R2): 0.36\n"
     ]
    }
   ],
   "source": [
    "from sklearn.metrics import mean_squared_error, r2_score\n",
    "import math\n",
    "\n",
    "# Evaluate the model\n",
    "rmse = math.sqrt(mean_squared_error(y_test, y_pred))\n",
    "r2 = r2_score(y_test, y_pred)\n",
    "\n",
    "# Print the model's performance metrics\n",
    "print(f\"Root Mean Squared Error (RMSE): {rmse:.2f}\")\n",
    "print(f\"R-squared (R2): {r2:.2f}\")"
   ]
  },
  {
   "cell_type": "markdown",
   "id": "8d08d30f",
   "metadata": {},
   "source": [
    "## KNeighborsRegressor"
   ]
  },
  {
   "cell_type": "code",
   "execution_count": 32,
   "id": "9b616fda",
   "metadata": {},
   "outputs": [
    {
     "data": {
      "text/html": [
       "<style>#sk-container-id-1 {color: black;}#sk-container-id-1 pre{padding: 0;}#sk-container-id-1 div.sk-toggleable {background-color: white;}#sk-container-id-1 label.sk-toggleable__label {cursor: pointer;display: block;width: 100%;margin-bottom: 0;padding: 0.3em;box-sizing: border-box;text-align: center;}#sk-container-id-1 label.sk-toggleable__label-arrow:before {content: \"▸\";float: left;margin-right: 0.25em;color: #696969;}#sk-container-id-1 label.sk-toggleable__label-arrow:hover:before {color: black;}#sk-container-id-1 div.sk-estimator:hover label.sk-toggleable__label-arrow:before {color: black;}#sk-container-id-1 div.sk-toggleable__content {max-height: 0;max-width: 0;overflow: hidden;text-align: left;background-color: #f0f8ff;}#sk-container-id-1 div.sk-toggleable__content pre {margin: 0.2em;color: black;border-radius: 0.25em;background-color: #f0f8ff;}#sk-container-id-1 input.sk-toggleable__control:checked~div.sk-toggleable__content {max-height: 200px;max-width: 100%;overflow: auto;}#sk-container-id-1 input.sk-toggleable__control:checked~label.sk-toggleable__label-arrow:before {content: \"▾\";}#sk-container-id-1 div.sk-estimator input.sk-toggleable__control:checked~label.sk-toggleable__label {background-color: #d4ebff;}#sk-container-id-1 div.sk-label input.sk-toggleable__control:checked~label.sk-toggleable__label {background-color: #d4ebff;}#sk-container-id-1 input.sk-hidden--visually {border: 0;clip: rect(1px 1px 1px 1px);clip: rect(1px, 1px, 1px, 1px);height: 1px;margin: -1px;overflow: hidden;padding: 0;position: absolute;width: 1px;}#sk-container-id-1 div.sk-estimator {font-family: monospace;background-color: #f0f8ff;border: 1px dotted black;border-radius: 0.25em;box-sizing: border-box;margin-bottom: 0.5em;}#sk-container-id-1 div.sk-estimator:hover {background-color: #d4ebff;}#sk-container-id-1 div.sk-parallel-item::after {content: \"\";width: 100%;border-bottom: 1px solid gray;flex-grow: 1;}#sk-container-id-1 div.sk-label:hover label.sk-toggleable__label {background-color: #d4ebff;}#sk-container-id-1 div.sk-serial::before {content: \"\";position: absolute;border-left: 1px solid gray;box-sizing: border-box;top: 0;bottom: 0;left: 50%;z-index: 0;}#sk-container-id-1 div.sk-serial {display: flex;flex-direction: column;align-items: center;background-color: white;padding-right: 0.2em;padding-left: 0.2em;position: relative;}#sk-container-id-1 div.sk-item {position: relative;z-index: 1;}#sk-container-id-1 div.sk-parallel {display: flex;align-items: stretch;justify-content: center;background-color: white;position: relative;}#sk-container-id-1 div.sk-item::before, #sk-container-id-1 div.sk-parallel-item::before {content: \"\";position: absolute;border-left: 1px solid gray;box-sizing: border-box;top: 0;bottom: 0;left: 50%;z-index: -1;}#sk-container-id-1 div.sk-parallel-item {display: flex;flex-direction: column;z-index: 1;position: relative;background-color: white;}#sk-container-id-1 div.sk-parallel-item:first-child::after {align-self: flex-end;width: 50%;}#sk-container-id-1 div.sk-parallel-item:last-child::after {align-self: flex-start;width: 50%;}#sk-container-id-1 div.sk-parallel-item:only-child::after {width: 0;}#sk-container-id-1 div.sk-dashed-wrapped {border: 1px dashed gray;margin: 0 0.4em 0.5em 0.4em;box-sizing: border-box;padding-bottom: 0.4em;background-color: white;}#sk-container-id-1 div.sk-label label {font-family: monospace;font-weight: bold;display: inline-block;line-height: 1.2em;}#sk-container-id-1 div.sk-label-container {text-align: center;}#sk-container-id-1 div.sk-container {/* jupyter's `normalize.less` sets `[hidden] { display: none; }` but bootstrap.min.css set `[hidden] { display: none !important; }` so we also need the `!important` here to be able to override the default hidden behavior on the sphinx rendered scikit-learn.org. See: https://github.com/scikit-learn/scikit-learn/issues/21755 */display: inline-block !important;position: relative;}#sk-container-id-1 div.sk-text-repr-fallback {display: none;}</style><div id=\"sk-container-id-1\" class=\"sk-top-container\"><div class=\"sk-text-repr-fallback\"><pre>KNeighborsRegressor()</pre><b>In a Jupyter environment, please rerun this cell to show the HTML representation or trust the notebook. <br />On GitHub, the HTML representation is unable to render, please try loading this page with nbviewer.org.</b></div><div class=\"sk-container\" hidden><div class=\"sk-item\"><div class=\"sk-estimator sk-toggleable\"><input class=\"sk-toggleable__control sk-hidden--visually\" id=\"sk-estimator-id-1\" type=\"checkbox\" checked><label for=\"sk-estimator-id-1\" class=\"sk-toggleable__label sk-toggleable__label-arrow\">KNeighborsRegressor</label><div class=\"sk-toggleable__content\"><pre>KNeighborsRegressor()</pre></div></div></div></div></div>"
      ],
      "text/plain": [
       "KNeighborsRegressor()"
      ]
     },
     "execution_count": 32,
     "metadata": {},
     "output_type": "execute_result"
    }
   ],
   "source": [
    "from sklearn.neighbors import KNeighborsRegressor\n",
    " \n",
    "#Create a KNeighborsRegressor model\n",
    "model = KNeighborsRegressor(n_neighbors=5)  # You can adjust the number of neighbors as needed\n",
    "\n",
    "# Fit the model to the training data\n",
    "model.fit(X_train, y_train)"
   ]
  },
  {
   "cell_type": "code",
   "execution_count": 33,
   "id": "13480292",
   "metadata": {},
   "outputs": [],
   "source": [
    "y_pred_gbr = model.predict(X_test)"
   ]
  },
  {
   "cell_type": "code",
   "execution_count": 36,
   "id": "8c5bcb13",
   "metadata": {},
   "outputs": [
    {
     "name": "stdout",
     "output_type": "stream",
     "text": [
      "Root Mean Squared Error (RMSE): 126.71\n",
      "R-squared (R2): 0.63\n"
     ]
    }
   ],
   "source": [
    "# Evaluate the model\n",
    "rmse = math.sqrt(mean_squared_error(y_test, y_pred_gbr))\n",
    "r2 = r2_score(y_test, y_pred_gbr)\n",
    "\n",
    "# Print the model's performance metrics\n",
    "print(f\"Root Mean Squared Error (RMSE): {rmse:.2f}\")\n",
    "print(f\"R-squared (R2): {r2:.2f}\")"
   ]
  }
 ],
 "metadata": {
  "kernelspec": {
   "display_name": "Python 3 (ipykernel)",
   "language": "python",
   "name": "python3"
  },
  "language_info": {
   "codemirror_mode": {
    "name": "ipython",
    "version": 3
   },
   "file_extension": ".py",
   "mimetype": "text/x-python",
   "name": "python",
   "nbconvert_exporter": "python",
   "pygments_lexer": "ipython3",
   "version": "3.10.9"
  }
 },
 "nbformat": 4,
 "nbformat_minor": 5
}
